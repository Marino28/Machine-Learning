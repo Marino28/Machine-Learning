{
 "cells": [
  {
   "cell_type": "code",
   "execution_count": 4,
   "id": "28baba7b",
   "metadata": {},
   "outputs": [
    {
     "name": "stdout",
     "output_type": "stream",
     "text": [
      "Defaulting to user installation because normal site-packages is not writeable\n",
      "Collecting opencv-python\n",
      "  Downloading opencv_python-4.8.1.78-cp37-abi3-win_amd64.whl (38.1 MB)\n",
      "     -------------------------------------- 38.1/38.1 MB 586.3 kB/s eta 0:00:00\n",
      "Requirement already satisfied: numpy>=1.21.2 in c:\\programdata\\anaconda3\\lib\\site-packages (from opencv-python) (1.23.5)\n",
      "Installing collected packages: opencv-python\n",
      "Successfully installed opencv-python-4.8.1.78\n"
     ]
    }
   ],
   "source": [
    "!pip install opencv-python"
   ]
  },
  {
   "cell_type": "code",
   "execution_count": 11,
   "id": "23666f85",
   "metadata": {},
   "outputs": [
    {
     "ename": "ModuleNotFoundError",
     "evalue": "No module named 'tensorflow'",
     "output_type": "error",
     "traceback": [
      "\u001b[1;31m---------------------------------------------------------------------------\u001b[0m",
      "\u001b[1;31mModuleNotFoundError\u001b[0m                       Traceback (most recent call last)",
      "Cell \u001b[1;32mIn[11], line 8\u001b[0m\n\u001b[0;32m      6\u001b[0m \u001b[38;5;28;01mfrom\u001b[39;00m \u001b[38;5;21;01mPIL\u001b[39;00m \u001b[38;5;28;01mimport\u001b[39;00m Image \n\u001b[0;32m      7\u001b[0m \u001b[38;5;28;01mfrom\u001b[39;00m \u001b[38;5;21;01msklearn\u001b[39;00m\u001b[38;5;21;01m.\u001b[39;00m\u001b[38;5;21;01mmodel_selection\u001b[39;00m \u001b[38;5;28;01mimport\u001b[39;00m train_test_split\n\u001b[1;32m----> 8\u001b[0m \u001b[38;5;28;01mimport\u001b[39;00m \u001b[38;5;21;01mtensorflow\u001b[39;00m \u001b[38;5;28;01mas\u001b[39;00m \u001b[38;5;21;01mtf\u001b[39;00m\n\u001b[0;32m      9\u001b[0m \u001b[38;5;28;01mfrom\u001b[39;00m \u001b[38;5;21;01mtensorflow\u001b[39;00m \u001b[38;5;28;01mimport\u001b[39;00m keras\n",
      "\u001b[1;31mModuleNotFoundError\u001b[0m: No module named 'tensorflow'"
     ]
    }
   ],
   "source": [
    "import os\n",
    "import numpy as np\n",
    "import matplotlib.pyplot as plt\n",
    "import matplotlib.image as mpimg\n",
    "import cv2\n",
    "from PIL import Image \n",
    "from sklearn.model_selection import train_test_split\n",
    "import tensorflow as tf\n",
    "from tensorflow import keras"
   ]
  },
  {
   "cell_type": "code",
   "execution_count": null,
   "id": "fdd59a8d",
   "metadata": {},
   "outputs": [],
   "source": [
    "!pip install kaggle"
   ]
  },
  {
   "cell_type": "code",
   "execution_count": null,
   "id": "b61c3333",
   "metadata": {},
   "outputs": [],
   "source": [
    "# configuring the path of Kaggle.json file\n",
    "!mkdir -p ~/.kaggle\n",
    "!cp kaggle.json ~/.kaggle/\n",
    "!chmod 600 ~/.kaggle/kaggle.json"
   ]
  },
  {
   "cell_type": "code",
   "execution_count": null,
   "id": "450e0974",
   "metadata": {},
   "outputs": [],
   "source": [
    "# API to fetch the dataset from Kaggle\n",
    "!kaggle datasets download -d omkargurav/face-mask-dataset"
   ]
  },
  {
   "cell_type": "code",
   "execution_count": null,
   "id": "e309bbf4",
   "metadata": {},
   "outputs": [],
   "source": [
    "# extracting the compessed Dataset\n",
    "from zipfile import ZipFile\n",
    "dataset = 'face-mask-dataset.zip'\n",
    "\n",
    "with ZipFile(dataset,'r') as zip:\n",
    "  zip.extractall()\n",
    "  print('The dataset is extracted')"
   ]
  },
  {
   "cell_type": "code",
   "execution_count": null,
   "id": "1730fb87",
   "metadata": {},
   "outputs": [],
   "source": [
    "!ls"
   ]
  },
  {
   "cell_type": "code",
   "execution_count": null,
   "id": "d2fb6ce2",
   "metadata": {},
   "outputs": [],
   "source": [
    "with_mask_files = os.listdir('/data/with_mask')\n",
    "print(with_mask_files[0:5])\n",
    "print(with_mask_files[-5:])"
   ]
  },
  {
   "cell_type": "code",
   "execution_count": null,
   "id": "54b63978",
   "metadata": {},
   "outputs": [],
   "source": [
    "without_mask_files = os.listdir('/data/without_mask')\n",
    "print(without_mask_files[0:5])\n",
    "print(without_mask_files[-5:])"
   ]
  },
  {
   "cell_type": "code",
   "execution_count": null,
   "id": "3c9af1c2",
   "metadata": {},
   "outputs": [],
   "source": [
    "print('Number of with mask images:', len(with_mask_files))\n",
    "print('Number of without mask images:', len(without_mask_files))"
   ]
  },
  {
   "cell_type": "code",
   "execution_count": null,
   "id": "cb639034",
   "metadata": {},
   "outputs": [],
   "source": [
    "# create the labels\n",
    "\n",
    "with_mask_labels = [1]*3725\n",
    "\n",
    "without_mask_labels = [0]*3828"
   ]
  },
  {
   "cell_type": "code",
   "execution_count": null,
   "id": "d648cca5",
   "metadata": {},
   "outputs": [],
   "source": [
    "print(len(with_mask_labels))\n",
    "print(len(without_mask_labels))"
   ]
  },
  {
   "cell_type": "code",
   "execution_count": null,
   "id": "683e01d1",
   "metadata": {},
   "outputs": [],
   "source": [
    "labels = with_mask_labels + without_mask_labels\n",
    "\n",
    "print(len(labels))\n",
    "print(labels[0:5])\n",
    "print(labels[-5:])"
   ]
  },
  {
   "cell_type": "code",
   "execution_count": null,
   "id": "d82a130f",
   "metadata": {},
   "outputs": [],
   "source": [
    "# displaying with mask image\n",
    "img = mpimg.imread('/content/data/with_mask/with_mask_1545.jpg')\n",
    "imgplot = plt.imshow(img)\n",
    "plt.show()"
   ]
  },
  {
   "cell_type": "code",
   "execution_count": null,
   "id": "369bb61c",
   "metadata": {},
   "outputs": [],
   "source": [
    "# displaying without mask image\n",
    "img = mpimg.imread('/content/data/without_mask/without_mask_2925.jpg')\n",
    "imgplot = plt.imshow(img)\n",
    "plt.show()"
   ]
  },
  {
   "cell_type": "code",
   "execution_count": null,
   "id": "91cdb50e",
   "metadata": {},
   "outputs": [],
   "source": [
    "# convert images to numpy arrays+\n",
    "\n",
    "with_mask_path = '/data/with_mask/'\n",
    "\n",
    "data = []\n",
    "\n",
    "for img_file in with_mask_files:\n",
    "\n",
    "  image = Image.open(with_mask_path + img_file)\n",
    "  image = image.resize((128,128))\n",
    "  image = image.convert('RGB')\n",
    "  image = np.array(image)\n",
    "  data.append(image)\n",
    "\n",
    "\n",
    "\n",
    "without_mask_path = '/data/without_mask/'\n",
    "\n",
    "\n",
    "for img_file in without_mask_files:\n",
    "\n",
    "  image = Image.open(without_mask_path + img_file)\n",
    "  image = image.resize((128,128))\n",
    "  image = image.convert('RGB')\n",
    "  image = np.array(image)\n",
    "  data.append(image)"
   ]
  },
  {
   "cell_type": "code",
   "execution_count": null,
   "id": "f881280b",
   "metadata": {},
   "outputs": [],
   "source": [
    "data[0]"
   ]
  },
  {
   "cell_type": "code",
   "execution_count": null,
   "id": "06f60a36",
   "metadata": {},
   "outputs": [],
   "source": [
    "# converting image list and label list to numpy arrays\n",
    "\n",
    "X = np.array(data)\n",
    "Y = np.array(labels)"
   ]
  },
  {
   "cell_type": "code",
   "execution_count": null,
   "id": "05e17ebc",
   "metadata": {},
   "outputs": [],
   "source": [
    "X_train, X_test, Y_train, Y_test = train_test_split(X, Y, test_size=0.2, random_state=2)"
   ]
  },
  {
   "cell_type": "code",
   "execution_count": null,
   "id": "f5a9096a",
   "metadata": {},
   "outputs": [],
   "source": [
    "print(X.shape, X_train.shape, X_test.shape)"
   ]
  },
  {
   "cell_type": "code",
   "execution_count": null,
   "id": "1e383685",
   "metadata": {},
   "outputs": [],
   "source": [
    "# scaling the data\n",
    "\n",
    "X_train_scaled = X_train/255\n",
    "\n",
    "X_test_scaled = X_test/255"
   ]
  },
  {
   "cell_type": "code",
   "execution_count": null,
   "id": "e70c0890",
   "metadata": {},
   "outputs": [],
   "source": [
    "num_of_classes = 2\n",
    "\n",
    "model = keras.Sequential()\n",
    "\n",
    "model.add(keras.layers.Conv2D(32, kernel_size=(3,3), activation='relu', input_shape=(128,128,3)))\n",
    "model.add(keras.layers.MaxPooling2D(pool_size=(2,2)))\n",
    "\n",
    "\n",
    "model.add(keras.layers.Conv2D(64, kernel_size=(3,3), activation='relu'))\n",
    "model.add(keras.layers.MaxPooling2D(pool_size=(2,2)))\n",
    "\n",
    "model.add(keras.layers.Flatten())\n",
    "\n",
    "model.add(keras.layers.Dense(128, activation='relu'))\n",
    "model.add(keras.layers.Dropout(0.5))\n",
    "\n",
    "model.add(keras.layers.Dense(64, activation='relu'))\n",
    "model.add(keras.layers.Dropout(0.5))\n",
    "\n",
    "\n",
    "model.add(keras.layers.Dense(num_of_classes, activation='sigmoid'))"
   ]
  },
  {
   "cell_type": "code",
   "execution_count": null,
   "id": "dd9e8668",
   "metadata": {},
   "outputs": [],
   "source": [
    "# compile the neural network\n",
    "model.compile(optimizer='adam',\n",
    "              loss='sparse_categorical_crossentropy',\n",
    "              metrics=['acc'])"
   ]
  },
  {
   "cell_type": "code",
   "execution_count": null,
   "id": "81d0efd0",
   "metadata": {},
   "outputs": [],
   "source": [
    "# training the neural network\n",
    "history = model.fit(X_train_scaled, Y_train, validation_split=0.1, epochs=5)"
   ]
  },
  {
   "cell_type": "code",
   "execution_count": null,
   "id": "08fe86db",
   "metadata": {},
   "outputs": [],
   "source": [
    "loss, accuracy = model.evaluate(X_test_scaled, Y_test)\n",
    "print('Test Accuracy =', accuracy)"
   ]
  },
  {
   "cell_type": "code",
   "execution_count": null,
   "id": "52eb84ad",
   "metadata": {},
   "outputs": [],
   "source": [
    "h = history\n",
    "\n",
    "# plot the loss value\n",
    "plt.plot(h.history['loss'], label='train loss')\n",
    "plt.plot(h.history['val_loss'], label='validation loss')\n",
    "plt.legend()\n",
    "plt.show()\n",
    "\n",
    "# plot the accuracy value\n",
    "plt.plot(h.history['acc'], label='train accuracy')\n",
    "plt.plot(h.history['val_acc'], label='validation accuracy')\n",
    "plt.legend()\n",
    "plt.show()"
   ]
  },
  {
   "cell_type": "code",
   "execution_count": null,
   "id": "16204373",
   "metadata": {},
   "outputs": [],
   "source": [
    "input_image_path = input('Path of the image to be predicted: ')\n",
    "\n",
    "input_image = cv2.imread(input_image_path)\n",
    "\n",
    "cv2_imshow(input_image)\n",
    "\n",
    "input_image_resized = cv2.resize(input_image, (128,128))\n",
    "\n",
    "input_image_scaled = input_image_resized/255\n",
    "\n",
    "input_image_reshaped = np.reshape(input_image_scaled, [1,128,128,3])\n",
    "\n",
    "input_prediction = model.predict(input_image_reshaped)\n",
    "\n",
    "print(input_prediction)\n",
    "\n",
    "\n",
    "input_pred_label = np.argmax(input_prediction)\n",
    "\n",
    "print(input_pred_label)\n",
    "\n",
    "\n",
    "if input_pred_label == 1:\n",
    "\n",
    "  print('The person in the image is wearing a mask')\n",
    "\n",
    "else:\n",
    "\n",
    "  print('The person in the image is not wearing a mask')"
   ]
  },
  {
   "cell_type": "code",
   "execution_count": null,
   "id": "a05835b2",
   "metadata": {},
   "outputs": [],
   "source": [
    "input_image_path = input('Path of the image to be predicted: ')\n",
    "\n",
    "input_image = cv2.imread(input_image_path)\n",
    "\n",
    "cv2_imshow(input_image)\n",
    "\n",
    "input_image_resized = cv2.resize(input_image, (128,128))\n",
    "\n",
    "input_image_scaled = input_image_resized/255\n",
    "\n",
    "input_image_reshaped = np.reshape(input_image_scaled, [1,128,128,3])\n",
    "\n",
    "input_prediction = model.predict(input_image_reshaped)\n",
    "\n",
    "print(input_prediction)\n",
    "\n",
    "\n",
    "input_pred_label = np.argmax(input_prediction)\n",
    "\n",
    "print(input_pred_label)\n",
    "\n",
    "\n",
    "if input_pred_label == 1:\n",
    "\n",
    "  print('The person in the image is wearing a mask')\n",
    "\n",
    "else:\n",
    "\n",
    "  print('The person in the image is not wearing a mask')"
   ]
  }
 ],
 "metadata": {
  "kernelspec": {
   "display_name": "Python 3 (ipykernel)",
   "language": "python",
   "name": "python3"
  },
  "language_info": {
   "codemirror_mode": {
    "name": "ipython",
    "version": 3
   },
   "file_extension": ".py",
   "mimetype": "text/x-python",
   "name": "python",
   "nbconvert_exporter": "python",
   "pygments_lexer": "ipython3",
   "version": "3.10.9"
  }
 },
 "nbformat": 4,
 "nbformat_minor": 5
}
