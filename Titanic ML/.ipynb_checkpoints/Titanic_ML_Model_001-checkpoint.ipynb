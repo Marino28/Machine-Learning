{
 "cells": [
  {
   "cell_type": "markdown",
   "id": "9f366eb9",
   "metadata": {},
   "source": [
    "# Titanic Machine Learning Model"
   ]
  },
  {
   "cell_type": "markdown",
   "id": "4af57d0a",
   "metadata": {},
   "source": [
    "This is my first machine learning model to start on my data scientist carreer, since I started data analysis with this dataset, I consider that this is also a good starting point."
   ]
  },
  {
   "cell_type": "markdown",
   "id": "01899561",
   "metadata": {},
   "source": [
    "## Import libraries"
   ]
  },
  {
   "cell_type": "code",
   "execution_count": 13,
   "id": "ba46fb66",
   "metadata": {},
   "outputs": [],
   "source": [
    "import pandas as pd\n",
    "import matplotlib.pyplot as plt\n",
    "import seaborn as sns\n",
    "from sklearn.linear_model import LinearRegression\n",
    "from sklearn.metrics import mean_squared_error, r2_score\n",
    "from sklearn.model_selection import train_test_split"
   ]
  },
  {
   "cell_type": "markdown",
   "id": "e3797812",
   "metadata": {},
   "source": [
    "### Exploratory Data Analysis on training CSV"
   ]
  },
  {
   "cell_type": "code",
   "execution_count": 2,
   "id": "294e6c56",
   "metadata": {},
   "outputs": [
    {
     "data": {
      "text/html": [
       "<div>\n",
       "<style scoped>\n",
       "    .dataframe tbody tr th:only-of-type {\n",
       "        vertical-align: middle;\n",
       "    }\n",
       "\n",
       "    .dataframe tbody tr th {\n",
       "        vertical-align: top;\n",
       "    }\n",
       "\n",
       "    .dataframe thead th {\n",
       "        text-align: right;\n",
       "    }\n",
       "</style>\n",
       "<table border=\"1\" class=\"dataframe\">\n",
       "  <thead>\n",
       "    <tr style=\"text-align: right;\">\n",
       "      <th></th>\n",
       "      <th>Survived</th>\n",
       "      <th>Pclass</th>\n",
       "      <th>Age</th>\n",
       "      <th>SibSp</th>\n",
       "      <th>Parch</th>\n",
       "      <th>Fare</th>\n",
       "    </tr>\n",
       "  </thead>\n",
       "  <tbody>\n",
       "    <tr>\n",
       "      <th>count</th>\n",
       "      <td>891.000000</td>\n",
       "      <td>891.000000</td>\n",
       "      <td>714.000000</td>\n",
       "      <td>891.000000</td>\n",
       "      <td>891.000000</td>\n",
       "      <td>891.000000</td>\n",
       "    </tr>\n",
       "    <tr>\n",
       "      <th>mean</th>\n",
       "      <td>0.383838</td>\n",
       "      <td>2.308642</td>\n",
       "      <td>29.699118</td>\n",
       "      <td>0.523008</td>\n",
       "      <td>0.381594</td>\n",
       "      <td>32.204208</td>\n",
       "    </tr>\n",
       "    <tr>\n",
       "      <th>std</th>\n",
       "      <td>0.486592</td>\n",
       "      <td>0.836071</td>\n",
       "      <td>14.526497</td>\n",
       "      <td>1.102743</td>\n",
       "      <td>0.806057</td>\n",
       "      <td>49.693429</td>\n",
       "    </tr>\n",
       "    <tr>\n",
       "      <th>min</th>\n",
       "      <td>0.000000</td>\n",
       "      <td>1.000000</td>\n",
       "      <td>0.420000</td>\n",
       "      <td>0.000000</td>\n",
       "      <td>0.000000</td>\n",
       "      <td>0.000000</td>\n",
       "    </tr>\n",
       "    <tr>\n",
       "      <th>25%</th>\n",
       "      <td>0.000000</td>\n",
       "      <td>2.000000</td>\n",
       "      <td>20.125000</td>\n",
       "      <td>0.000000</td>\n",
       "      <td>0.000000</td>\n",
       "      <td>7.910400</td>\n",
       "    </tr>\n",
       "    <tr>\n",
       "      <th>50%</th>\n",
       "      <td>0.000000</td>\n",
       "      <td>3.000000</td>\n",
       "      <td>28.000000</td>\n",
       "      <td>0.000000</td>\n",
       "      <td>0.000000</td>\n",
       "      <td>14.454200</td>\n",
       "    </tr>\n",
       "    <tr>\n",
       "      <th>75%</th>\n",
       "      <td>1.000000</td>\n",
       "      <td>3.000000</td>\n",
       "      <td>38.000000</td>\n",
       "      <td>1.000000</td>\n",
       "      <td>0.000000</td>\n",
       "      <td>31.000000</td>\n",
       "    </tr>\n",
       "    <tr>\n",
       "      <th>max</th>\n",
       "      <td>1.000000</td>\n",
       "      <td>3.000000</td>\n",
       "      <td>80.000000</td>\n",
       "      <td>8.000000</td>\n",
       "      <td>6.000000</td>\n",
       "      <td>512.329200</td>\n",
       "    </tr>\n",
       "  </tbody>\n",
       "</table>\n",
       "</div>"
      ],
      "text/plain": [
       "         Survived      Pclass         Age       SibSp       Parch        Fare\n",
       "count  891.000000  891.000000  714.000000  891.000000  891.000000  891.000000\n",
       "mean     0.383838    2.308642   29.699118    0.523008    0.381594   32.204208\n",
       "std      0.486592    0.836071   14.526497    1.102743    0.806057   49.693429\n",
       "min      0.000000    1.000000    0.420000    0.000000    0.000000    0.000000\n",
       "25%      0.000000    2.000000   20.125000    0.000000    0.000000    7.910400\n",
       "50%      0.000000    3.000000   28.000000    0.000000    0.000000   14.454200\n",
       "75%      1.000000    3.000000   38.000000    1.000000    0.000000   31.000000\n",
       "max      1.000000    3.000000   80.000000    8.000000    6.000000  512.329200"
      ]
     },
     "execution_count": 2,
     "metadata": {},
     "output_type": "execute_result"
    }
   ],
   "source": [
    "tit_train_ds = pd.read_csv(\"train.csv\",index_col = 0)\n",
    "tit_train_ds.describe()"
   ]
  },
  {
   "cell_type": "code",
   "execution_count": 3,
   "id": "c26fc125",
   "metadata": {
    "scrolled": true
   },
   "outputs": [
    {
     "name": "stdout",
     "output_type": "stream",
     "text": [
      "<class 'pandas.core.frame.DataFrame'>\n",
      "Int64Index: 891 entries, 1 to 891\n",
      "Data columns (total 11 columns):\n",
      " #   Column    Non-Null Count  Dtype  \n",
      "---  ------    --------------  -----  \n",
      " 0   Survived  891 non-null    int64  \n",
      " 1   Pclass    891 non-null    int64  \n",
      " 2   Name      891 non-null    object \n",
      " 3   Sex       891 non-null    object \n",
      " 4   Age       714 non-null    float64\n",
      " 5   SibSp     891 non-null    int64  \n",
      " 6   Parch     891 non-null    int64  \n",
      " 7   Ticket    891 non-null    object \n",
      " 8   Fare      891 non-null    float64\n",
      " 9   Cabin     204 non-null    object \n",
      " 10  Embarked  889 non-null    object \n",
      "dtypes: float64(2), int64(4), object(5)\n",
      "memory usage: 83.5+ KB\n"
     ]
    }
   ],
   "source": [
    "tit_train_ds.info()"
   ]
  },
  {
   "cell_type": "code",
   "execution_count": 4,
   "id": "bbc3bbf1",
   "metadata": {},
   "outputs": [],
   "source": [
    "tit_train_ds = tit_train_ds.fillna(0)"
   ]
  },
  {
   "cell_type": "code",
   "execution_count": 5,
   "id": "70bedf6b",
   "metadata": {},
   "outputs": [
    {
     "name": "stdout",
     "output_type": "stream",
     "text": [
      "<class 'pandas.core.frame.DataFrame'>\n",
      "Int64Index: 891 entries, 1 to 891\n",
      "Data columns (total 11 columns):\n",
      " #   Column    Non-Null Count  Dtype  \n",
      "---  ------    --------------  -----  \n",
      " 0   Survived  891 non-null    int64  \n",
      " 1   Pclass    891 non-null    int64  \n",
      " 2   Name      891 non-null    object \n",
      " 3   Sex       891 non-null    object \n",
      " 4   Age       891 non-null    float64\n",
      " 5   SibSp     891 non-null    int64  \n",
      " 6   Parch     891 non-null    int64  \n",
      " 7   Ticket    891 non-null    object \n",
      " 8   Fare      891 non-null    float64\n",
      " 9   Cabin     891 non-null    object \n",
      " 10  Embarked  891 non-null    object \n",
      "dtypes: float64(2), int64(4), object(5)\n",
      "memory usage: 83.5+ KB\n"
     ]
    }
   ],
   "source": [
    "tit_train_ds.info()"
   ]
  },
  {
   "cell_type": "code",
   "execution_count": 6,
   "id": "aa12faa3",
   "metadata": {},
   "outputs": [
    {
     "data": {
      "text/plain": [
       "Survived\n",
       "0    549\n",
       "1    342\n",
       "dtype: int64"
      ]
     },
     "execution_count": 6,
     "metadata": {},
     "output_type": "execute_result"
    }
   ],
   "source": [
    "tit_train_ds.value_counts(\"Survived\")"
   ]
  },
  {
   "cell_type": "code",
   "execution_count": 7,
   "id": "01635574",
   "metadata": {
    "scrolled": true
   },
   "outputs": [
    {
     "data": {
      "text/plain": [
       "<Axes: xlabel='Survived'>"
      ]
     },
     "execution_count": 7,
     "metadata": {},
     "output_type": "execute_result"
    },
    {
     "data": {
      "image/png": "[encoded data removed]",
      "text/plain": [
       "<Figure size 640x480 with 1 Axes>"
      ]
     },
     "metadata": {},
     "output_type": "display_data"
    }
   ],
   "source": [
    "df = tit_train_ds.groupby(['Survived','Sex']).size()\n",
    "df = df.unstack()\n",
    "df.plot(kind = \"bar\", stacked = True)"
   ]
  },
  {
   "cell_type": "code",
   "execution_count": 8,
   "id": "768b4f76",
   "metadata": {},
   "outputs": [],
   "source": [
    "tit_train_ds[\"Sex\"] = tit_train_ds[\"Sex\"].replace(['male'],0)\n",
    "tit_train_ds[\"Sex\"] = tit_train_ds[\"Sex\"].replace(['female'],1)\n",
    "\n",
    "tit_train_ds[\"Embarked\"] = tit_train_ds[\"Embarked\"].replace(['C'],0)\n",
    "tit_train_ds[\"Embarked\"] = tit_train_ds[\"Embarked\"].replace(['Q'],1)\n",
    "tit_train_ds[\"Embarked\"] = tit_train_ds[\"Embarked\"].replace(['S'],2)"
   ]
  },
  {
   "cell_type": "code",
   "execution_count": 9,
   "id": "dd0850ce",
   "metadata": {
    "scrolled": false
   },
   "outputs": [
    {
     "name": "stdout",
     "output_type": "stream",
     "text": [
      "Survived    1.000000\n",
      "Sex         0.543351\n",
      "Pclass      0.338481\n",
      "Fare        0.257307\n",
      "Embarked    0.174199\n",
      "Parch       0.081629\n",
      "SibSp       0.035322\n",
      "Age         0.010539\n",
      "Name: Survived, dtype: float64\n"
     ]
    },
    {
     "name": "stderr",
     "output_type": "stream",
     "text": [
      "C:\\Users\\marin\\AppData\\Local\\Temp\\ipykernel_10288\\949533041.py:1: FutureWarning: The default value of numeric_only in DataFrame.corr is deprecated. In a future version, it will default to False. Select only valid columns or specify the value of numeric_only to silence this warning.\n",
      "  correlation = tit_train_ds.corr().abs()\n"
     ]
    }
   ],
   "source": [
    "correlation = tit_train_ds.corr().abs()\n",
    "print(correlation['Survived'].sort_values(ascending=False))"
   ]
  },
  {
   "cell_type": "code",
   "execution_count": 14,
   "id": "8e74fd92",
   "metadata": {},
   "outputs": [],
   "source": [
    "x_train, x_test, y_train, y_test = train_test_split(tit_train_ds[['Sex','Pclass','Fare','Embarked','Parch','Age','SibSp']]\\\n",
    "                                                    ,tit_train_ds['Survived'],test_size = 0.2, random_state = 100)"
   ]
  },
  {
   "cell_type": "code",
   "execution_count": 15,
   "id": "8149a993",
   "metadata": {},
   "outputs": [
    {
     "data": {
      "text/html": [
       "<style>#sk-container-id-1 {color: black;background-color: white;}#sk-container-id-1 pre{padding: 0;}#sk-container-id-1 div.sk-toggleable {background-color: white;}#sk-container-id-1 label.sk-toggleable__label {cursor: pointer;display: block;width: 100%;margin-bottom: 0;padding: 0.3em;box-sizing: border-box;text-align: center;}#sk-container-id-1 label.sk-toggleable__label-arrow:before {content: \"▸\";float: left;margin-right: 0.25em;color: #696969;}#sk-container-id-1 label.sk-toggleable__label-arrow:hover:before {color: black;}#sk-container-id-1 div.sk-estimator:hover label.sk-toggleable__label-arrow:before {color: black;}#sk-container-id-1 div.sk-toggleable__content {max-height: 0;max-width: 0;overflow: hidden;text-align: left;background-color: #f0f8ff;}#sk-container-id-1 div.sk-toggleable__content pre {margin: 0.2em;color: black;border-radius: 0.25em;background-color: #f0f8ff;}#sk-container-id-1 input.sk-toggleable__control:checked~div.sk-toggleable__content {max-height: 200px;max-width: 100%;overflow: auto;}#sk-container-id-1 input.sk-toggleable__control:checked~label.sk-toggleable__label-arrow:before {content: \"▾\";}#sk-container-id-1 div.sk-estimator input.sk-toggleable__control:checked~label.sk-toggleable__label {background-color: #d4ebff;}#sk-container-id-1 div.sk-label input.sk-toggleable__control:checked~label.sk-toggleable__label {background-color: #d4ebff;}#sk-container-id-1 input.sk-hidden--visually {border: 0;clip: rect(1px 1px 1px 1px);clip: rect(1px, 1px, 1px, 1px);height: 1px;margin: -1px;overflow: hidden;padding: 0;position: absolute;width: 1px;}#sk-container-id-1 div.sk-estimator {font-family: monospace;background-color: #f0f8ff;border: 1px dotted black;border-radius: 0.25em;box-sizing: border-box;margin-bottom: 0.5em;}#sk-container-id-1 div.sk-estimator:hover {background-color: #d4ebff;}#sk-container-id-1 div.sk-parallel-item::after {content: \"\";width: 100%;border-bottom: 1px solid gray;flex-grow: 1;}#sk-container-id-1 div.sk-label:hover label.sk-toggleable__label {background-color: #d4ebff;}#sk-container-id-1 div.sk-serial::before {content: \"\";position: absolute;border-left: 1px solid gray;box-sizing: border-box;top: 0;bottom: 0;left: 50%;z-index: 0;}#sk-container-id-1 div.sk-serial {display: flex;flex-direction: column;align-items: center;background-color: white;padding-right: 0.2em;padding-left: 0.2em;position: relative;}#sk-container-id-1 div.sk-item {position: relative;z-index: 1;}#sk-container-id-1 div.sk-parallel {display: flex;align-items: stretch;justify-content: center;background-color: white;position: relative;}#sk-container-id-1 div.sk-item::before, #sk-container-id-1 div.sk-parallel-item::before {content: \"\";position: absolute;border-left: 1px solid gray;box-sizing: border-box;top: 0;bottom: 0;left: 50%;z-index: -1;}#sk-container-id-1 div.sk-parallel-item {display: flex;flex-direction: column;z-index: 1;position: relative;background-color: white;}#sk-container-id-1 div.sk-parallel-item:first-child::after {align-self: flex-end;width: 50%;}#sk-container-id-1 div.sk-parallel-item:last-child::after {align-self: flex-start;width: 50%;}#sk-container-id-1 div.sk-parallel-item:only-child::after {width: 0;}#sk-container-id-1 div.sk-dashed-wrapped {border: 1px dashed gray;margin: 0 0.4em 0.5em 0.4em;box-sizing: border-box;padding-bottom: 0.4em;background-color: white;}#sk-container-id-1 div.sk-label label {font-family: monospace;font-weight: bold;display: inline-block;line-height: 1.2em;}#sk-container-id-1 div.sk-label-container {text-align: center;}#sk-container-id-1 div.sk-container {/* jupyter's `normalize.less` sets `[hidden] { display: none; }` but bootstrap.min.css set `[hidden] { display: none !important; }` so we also need the `!important` here to be able to override the default hidden behavior on the sphinx rendered scikit-learn.org. See: https://github.com/scikit-learn/scikit-learn/issues/21755 */display: inline-block !important;position: relative;}#sk-container-id-1 div.sk-text-repr-fallback {display: none;}</style><div id=\"sk-container-id-1\" class=\"sk-top-container\"><div class=\"sk-text-repr-fallback\"><pre>LinearRegression()</pre><b>In a Jupyter environment, please rerun this cell to show the HTML representation or trust the notebook. <br />On GitHub, the HTML representation is unable to render, please try loading this page with nbviewer.org.</b></div><div class=\"sk-container\" hidden><div class=\"sk-item\"><div class=\"sk-estimator sk-toggleable\"><input class=\"sk-toggleable__control sk-hidden--visually\" id=\"sk-estimator-id-1\" type=\"checkbox\" checked><label for=\"sk-estimator-id-1\" class=\"sk-toggleable__label sk-toggleable__label-arrow\">LinearRegression</label><div class=\"sk-toggleable__content\"><pre>LinearRegression()</pre></div></div></div></div></div>"
      ],
      "text/plain": [
       "LinearRegression()"
      ]
     },
     "execution_count": 15,
     "metadata": {},
     "output_type": "execute_result"
    }
   ],
   "source": [
    "lr = LinearRegression()\n",
    "lr.fit(x_train,y_train)"
   ]
  },
  {
   "cell_type": "code",
   "execution_count": 16,
   "id": "96846102",
   "metadata": {},
   "outputs": [],
   "source": [
    "y_lr_train_pred = lr.predict(x_train)"
   ]
  },
  {
   "cell_type": "code",
   "execution_count": 17,
   "id": "affcc60c",
   "metadata": {},
   "outputs": [],
   "source": [
    "y_lr_test_pred = lr.predict(x_test)"
   ]
  },
  {
   "cell_type": "code",
   "execution_count": 18,
   "id": "c5c9e6ca",
   "metadata": {},
   "outputs": [
    {
     "name": "stdout",
     "output_type": "stream",
     "text": [
      "[ 9.38698235e-02 -5.88980731e-02  1.01748816e-01  9.35914912e-01\n",
      "  3.52837083e-01  1.52021175e-01  1.40278814e-02  3.57856288e-01\n",
      "  8.54385166e-03  5.86463645e-01  7.37257263e-01  6.82928558e-01\n",
      "  7.07560655e-02  7.32622205e-01  1.68957157e-01  2.37051030e-01\n",
      " -1.91376359e-02  5.95427639e-01  1.37553923e-01  6.23926053e-01\n",
      "  4.32315873e-01  9.44210760e-01  1.45296628e-01  3.65020942e-01\n",
      "  3.76628028e-01  1.47502878e-01  3.36018703e-02  9.15608269e-02\n",
      "  3.61641839e-01  3.50685965e-01  9.91556341e-01  3.56730972e-01\n",
      "  3.98906344e-01  2.44046403e-01  6.57531218e-01  1.06150688e-01\n",
      "  6.64201362e-02  7.73951360e-01  9.63273514e-01  2.77208011e-02\n",
      "  2.02288094e-01  1.25645404e-01  6.85545052e-01  8.62741086e-01\n",
      "  9.21983830e-02  8.82565088e-01  1.00981116e-01  1.63945636e-01\n",
      "  5.50353379e-01  3.41234573e-01  3.21237444e-02  9.84603754e-01\n",
      "  1.42587487e-01  1.45228140e-01  9.64126521e-01  2.94291519e-01\n",
      "  3.71070894e-02  3.36296723e-01  5.13706056e-01  7.30616163e-02\n",
      "  6.31826414e-01  9.67821642e-02  5.14685361e-01  9.63001616e-02\n",
      "  2.01115291e-01  2.67742910e-02  1.95446446e-01  4.81068597e-01\n",
      "  2.33707963e-01  9.70368256e-02  5.45213841e-02  4.66627640e-01\n",
      "  1.05570278e-01  3.16438933e-01  4.60125733e-01  5.87155959e-01\n",
      "  2.51564169e-01  9.85544355e-02  8.97237038e-02  1.12956750e-01\n",
      "  7.19661069e-02  9.75657489e-01  4.49828006e-01  7.85728167e-02\n",
      "  6.46379165e-01  9.85148920e-01  7.76966743e-02  6.44324955e-01\n",
      "  2.94291519e-01  1.34814432e-02  4.82053696e-01  8.46492614e-02\n",
      "  7.24480180e-01  4.49234526e-01  7.36231726e-01  9.92324750e-01\n",
      "  1.42650742e-01 -6.35331311e-02  9.10995623e-01  1.95446446e-01\n",
      "  8.69257689e-02  6.58874571e-01  5.45334326e-01  7.60432553e-01\n",
      " -1.23139095e-02  5.98743604e-01  3.74807143e-01  8.71749960e-01\n",
      "  7.96364774e-02  3.63505367e-01  3.13290289e-02  1.45296628e-01\n",
      "  3.38604119e-01  1.04404504e+00  5.00173069e-02  1.96213778e-01\n",
      "  1.24797809e-01  3.99172798e-01  3.92401488e-01  4.95019921e-01\n",
      "  9.62198415e-02  7.11969551e-01  4.84351133e-01  9.85544355e-02\n",
      "  5.56140123e-01  6.85386094e-01  2.09240681e-01  5.89805065e-01\n",
      "  3.49090416e-01  6.22579624e-01  1.95172997e-01  3.73861255e-01\n",
      "  1.91578720e-01  3.62681832e-01  5.54667808e-01  7.50621825e-01\n",
      "  3.56103937e-01  6.16664843e-02  7.52454429e-01  1.02049190e+00\n",
      "  3.54266503e-01  4.40444113e-01  9.92653676e-01  1.81235481e-01\n",
      "  2.80548301e-01  8.08887100e-01  5.72076258e-01  8.45484305e-02\n",
      "  4.18447012e-02  1.42587487e-01  9.76331203e-02  6.41345485e-02\n",
      "  7.38221453e-01  7.51162437e-01  1.00830943e-01  3.77305371e-01\n",
      "  7.53706128e-02  7.52217972e-01  5.73961810e-01  4.63592049e-01\n",
      "  4.85703655e-01  8.92783720e-01  6.89467425e-01  2.44697051e-02\n",
      "  6.36717984e-01  8.66574473e-02  9.94876745e-02  5.45913359e-01\n",
      "  1.03504005e-01  5.44481051e-01  7.18648327e-01  5.49782583e-01\n",
      "  9.07415739e-01  8.90466191e-01  8.14102863e-02  4.88480940e-01\n",
      "  4.51504372e-02  9.37753156e-01  6.91174561e-01  1.68957157e-01\n",
      "  8.22821784e-02  7.53295913e-02  7.03204847e-01  1.14893479e-01\n",
      "  3.66190978e-01  1.42445635e-01  9.08696312e-01  6.84094933e-02\n",
      "  2.15758481e-01  1.42676380e-01  4.06794651e-02  2.27780914e-01\n",
      "  7.46527379e-01  8.75756955e-01  3.21123731e-01  4.61540974e-01\n",
      "  8.37066699e-01  7.76796094e-02  3.11578257e-01  1.68403430e-01\n",
      "  6.89819798e-01  6.59079679e-01  5.87496068e-01  1.42587487e-01\n",
      "  2.48493643e-02  3.50807037e-01  2.94291519e-01  9.16651036e-02\n",
      "  9.52355834e-01  2.61518312e-01  1.75684682e-01  1.68989646e-01\n",
      "  7.32622205e-01  8.83160222e-01  5.44901743e-01  1.03555865e+00\n",
      "  6.79983336e-01  7.77352992e-01  3.33987061e-02  9.39313557e-02\n",
      "  2.47970360e-01  1.42348209e-01  9.89214435e-01  1.05457469e-01\n",
      "  8.24257548e-01  6.53982859e-01  3.61168423e-01  9.85048815e-02\n",
      "  1.42587487e-01  3.79860186e-01  3.64139903e-01  1.68957157e-01\n",
      "  3.59508351e-01  1.42587487e-01  1.88382920e-01  1.02379047e+00\n",
      "  2.34733501e-01  8.17056393e-01  1.64683071e-01 -1.90475436e-02\n",
      "  2.77535812e-02  9.62488847e-02  8.84210238e-01  9.78677641e-01\n",
      "  1.19282501e-01  1.01452036e+00  3.30344108e-01  1.42650742e-01\n",
      "  3.63566529e-01  2.00192687e-02  4.46934908e-01  5.28329774e-01\n",
      "  8.43023016e-02  3.85624900e-01  7.64444932e-01  3.51764596e-01\n",
      "  1.69247713e-01  4.61951189e-01  6.85386094e-01  7.27966995e-02\n",
      "  7.60432553e-01  1.00812155e-01  9.14424268e-01  6.85380966e-01\n",
      "  9.76367333e-01  1.43245554e-01  7.14689938e-01  4.59900115e-01\n",
      "  9.39826326e-02  6.85386094e-01  6.98816103e-01  2.37051030e-01\n",
      "  8.61513099e-01  7.06945333e-02  6.03787154e-01  6.48305629e-01\n",
      "  7.75629719e-01  9.39826326e-02  3.45362731e-01  1.42322570e-01\n",
      "  4.27976174e-01  1.68948625e-01  9.31621184e-01  5.35124284e-01\n",
      "  1.95171274e-01  9.07652818e-01  6.81474056e-01 -3.16391000e-02\n",
      "  4.70467970e-01  9.38800789e-02  5.22158334e-02  1.09334652e-01\n",
      "  1.06165089e-01  9.68949733e-02 -2.39218566e-02  5.14276869e-01\n",
      "  8.36977907e-02  2.06609407e-01  9.34554819e-01  3.41931753e-01\n",
      "  1.03504005e-01  7.54424004e-02  6.46061897e-01  6.87577326e-01\n",
      "  1.28238105e-01  7.21912831e-01  3.44606012e-01 -1.07813388e-02\n",
      "  3.90504037e-01  9.77103951e-01  3.55836927e-01  7.11601934e-01\n",
      "  6.38547553e-02  1.82869836e-01  1.02268178e-01  8.99771664e-03\n",
      "  9.64898176e-01  9.62198415e-02  8.92843194e-02  7.42770592e-01\n",
      "  9.36544606e-02  9.25115393e-01  1.68957157e-01  6.87327160e-01\n",
      "  5.46420629e-01  3.33140690e-01  5.18901581e-01  8.15384934e-01\n",
      "  1.01037773e-01  6.85386094e-01  9.47962287e-02  3.56533365e-01\n",
      "  7.83547411e-02  5.40211667e-01  3.83619361e-02  9.40845563e-01\n",
      "  2.23843592e-01  2.20828326e-01  8.58712810e-02  9.24779908e-02\n",
      "  6.05725234e-01  4.04871154e-02  6.33775551e-01  3.79209550e-02\n",
      "  7.41892321e-01  9.24668597e-01  6.84265582e-02  7.47819371e-01\n",
      "  8.86886891e-01  5.56735517e-01  3.78904536e-01  1.68628985e-01\n",
      "  4.12263082e-01  6.84832366e-01  6.70759440e-01  6.24852579e-01\n",
      "  2.94291519e-01  2.42383824e-01  4.63797156e-01  9.41398680e-02\n",
      "  2.31079848e-01  5.66507776e-01  1.63095208e-01  3.90427998e-01\n",
      "  2.31390434e-01  3.38647084e-01  8.87641777e-01  1.72136323e-01\n",
      "  1.18702818e-01  9.33936859e-01  1.42650742e-01  1.42587487e-01\n",
      "  1.13969710e-01  1.45641860e-01  5.59174670e-02  3.87745156e-01\n",
      "  4.23406502e-02  2.20828326e-01  1.68591369e-01  1.20282197e-01\n",
      "  4.35122315e-01  2.12436481e-01  2.17485260e-01  4.98863261e-02\n",
      "  3.55478081e-01  2.53881698e-01  6.01028644e-01  1.68957157e-01\n",
      "  7.25190699e-01  1.98350772e-01  1.42650742e-01  5.13464972e-01\n",
      " -1.67739577e-02  6.57152631e-02  1.01764771e+00  1.00822411e-01\n",
      "  1.42322570e-01  4.22108988e-01  2.94291519e-01  9.20548078e-02\n",
      "  7.71351883e-01  3.41165822e-02  3.21706690e-01  5.18337997e-01\n",
      "  6.14701459e-01  4.80919435e-01  9.76845898e-01  5.37957189e-04\n",
      "  9.61713215e-01  8.66198306e-02  1.42901999e-01  5.02564760e-01\n",
      "  6.49307235e-01  3.09486346e-01  1.41102282e-01  2.56731223e-01\n",
      "  6.43260356e-01  6.85379243e-01  7.51162437e-01  6.32171993e-02\n",
      "  2.77139089e-02  1.36371744e-01  4.51094157e-02  5.06746653e-01\n",
      "  2.41686088e-01  1.44187359e-01  9.91329621e-01  1.68946902e-01\n",
      "  2.67876643e-01  1.42650742e-01  4.84465576e-01  1.95171274e-01\n",
      "  6.85386094e-01  3.83932792e-01  8.83630042e-02  1.42650742e-01\n",
      "  5.74055309e-01  9.64066590e-01  7.94787160e-01  2.42978079e-01\n",
      "  2.16193268e-01  7.60303615e-02  1.89527646e-01  1.91520879e-01\n",
      "  1.68950307e-01  5.18219300e-01  1.95171274e-01  1.42240527e-01\n",
      "  9.77269019e-01  2.69000951e-01  6.46220114e-01  1.00935220e-01\n",
      "  2.53619149e-01  9.84536047e-02  1.93838063e-02  2.41686088e-01\n",
      " -2.70040420e-02  1.02470113e-01  1.52021175e-01  1.55115009e-04\n",
      "  2.44003617e-01  7.72690219e-01  7.27987147e-01  6.71367765e-01\n",
      "  1.03194510e-01  1.25647127e-01  6.86180055e-02  8.43023016e-02\n",
      "  2.45295608e-01  2.69692404e-01  1.45542757e-01  1.40711065e-01\n",
      "  8.69667904e-02  3.95291759e-01  6.67844731e-01  1.42650742e-01\n",
      "  4.70995666e-01  7.40733556e-01  9.11595009e-01  8.82050902e-02\n",
      "  4.41308160e-01  5.01926359e-01 -1.32496145e-01  6.84385365e-02\n",
      "  9.48975012e-01  5.57498753e-02 -7.04857182e-02  2.57895898e-02\n",
      "  7.18717031e-01  9.01856564e-01  1.74421565e-01  4.50972171e-01\n",
      "  4.78961812e-01  4.92656243e-01  9.72349760e-01  2.24437847e-01\n",
      "  5.22158334e-02  5.41744243e-02  9.37734944e-01  1.14757400e+00\n",
      "  5.78874829e-01  9.72848628e-02  6.07981231e-01  9.25381695e-01\n",
      "  9.42338892e-02  4.03664837e-01  2.26949621e-01 -3.06791318e-02\n",
      "  2.57293468e-01  6.25341901e-01  4.61746082e-01  5.67963979e-01\n",
      "  7.21191684e-01  6.93012072e-01  1.42650742e-01  7.76966743e-02\n",
      "  5.49717917e-01  1.68957157e-01  8.42137986e-01  8.76248572e-02\n",
      "  1.37553923e-01  6.76837275e-01  9.27922632e-01  6.61670192e-01\n",
      "  6.85418583e-01  8.23949875e-02  6.85401477e-01  4.29969941e-02\n",
      "  9.85544355e-02  1.95172997e-01  8.83630042e-02  6.82618562e-02\n",
      "  1.42322570e-01  7.79232463e-01  2.18893515e-01  6.17251347e-01\n",
      "  1.18967989e-01  1.01263577e-01  8.68027044e-02 -1.32496145e-01\n",
      "  3.86874491e-01  5.00173069e-02  4.04480621e-02  3.55836927e-01\n",
      "  4.59869348e-01  1.96651396e-01  6.34400455e-01  6.26553952e-01\n",
      "  2.82726795e-01  8.23283276e-02  1.42650742e-01  6.31145061e-01\n",
      "  1.12956750e-01  4.36327962e-01  7.23352089e-01  9.24145546e-01\n",
      "  8.29104001e-01  1.42587487e-01  3.21073992e-01  9.32905658e-01\n",
      "  8.71298723e-01  1.29123420e-01  3.41447273e-01  8.88943140e-01\n",
      "  4.31871177e-01  4.55657798e-02  2.46321146e-01  4.06281882e-02\n",
      "  3.24741909e-01  8.15933809e-01  1.06048875e-01  1.42587487e-01\n",
      "  1.05570278e-01  9.86621169e-02  3.38874425e-01  2.94291519e-01\n",
      "  1.95172997e-01  2.29028908e-02  6.84898134e-02  8.70300455e-02\n",
      "  5.50619117e-01  6.45220401e-01  2.26755376e-01  9.12856548e-02\n",
      "  6.61090292e-02  7.37196831e-02  2.46321146e-01  2.38343021e-01\n",
      "  5.13464972e-01  6.53982859e-01  8.23317323e-02  2.49583876e-01\n",
      "  6.18099138e-01  3.14956285e-01  3.26784993e-01  5.50619117e-01\n",
      "  8.90899624e-01  9.16018484e-02  8.44866741e-01  2.48590111e-01\n",
      "  6.18792947e-01  4.43951080e-01  7.76733819e-01  1.68957157e-01\n",
      "  2.54565724e-01 -2.89592146e-02  1.48822417e-01  1.05101145e+00\n",
      "  2.43336975e-02  4.20412953e-01  1.58965562e-01  1.42587487e-01\n",
      "  2.40482699e-02  9.71137577e-02  1.93687999e-01  1.42650742e-01\n",
      "  3.21607456e-01  7.51589867e-01  5.58835786e-03  1.34374757e-01\n",
      "  5.52280994e-01  1.95171274e-01  1.95172997e-01  3.83932792e-01\n",
      "  3.41901802e-02  5.88715707e-02  1.98138482e-01  6.85336540e-01\n",
      "  9.58563719e-01  5.83291439e-01  6.60594752e-02  9.13369316e-02\n",
      "  1.62523933e-01  1.79810540e-01  9.58899467e-02  5.98418980e-01\n",
      "  3.48884340e-01  4.69745273e-01 -3.20778032e-02  5.67545312e-02\n",
      "  1.37233049e-01  4.70565703e-01  6.27799508e-01  7.31248714e-02\n",
      "  4.57584905e-01  6.09105917e-01  2.99624313e-01  4.20763811e-01\n",
      "  7.36425970e-01  7.50972320e-02  1.95781469e-01  4.16670345e-01\n",
      "  1.79112804e-01  6.58052635e-01  5.80383907e-01  6.85386094e-01\n",
      "  6.11586614e-01  3.58850894e-01  6.16969581e-01  8.42216090e-01\n",
      "  9.91329621e-01  2.54565724e-01  8.06306258e-04  9.86176906e-02\n",
      "  3.53324213e-01  1.40602891e-02  4.63772055e-02  9.14480178e-02\n",
      "  5.67543754e-01  5.98772647e-01  3.74764099e-01  8.73159908e-01\n",
      "  1.79317912e-01  3.94332633e-01  1.74887961e-01  2.14573476e-01\n",
      "  6.27799508e-01  5.86781351e-01  3.00019323e-01  6.07098686e-01\n",
      "  4.06794651e-02  6.15372263e-02  6.53982859e-01  1.83747862e-01\n",
      "  2.57293468e-01  6.07970976e-01  6.59079679e-01  1.42537933e-01\n",
      " -4.03578409e-02  4.62129326e-02  2.92346272e-02  6.05571404e-01\n",
      "  4.60125733e-01  1.54911977e-01  7.31182947e-01  2.57908791e-01\n",
      "  1.99656819e-01  1.83177710e-02  6.67670960e-02  4.14669197e-01\n",
      "  6.99151261e-01  1.42587487e-01  6.79985018e-01  7.19595302e-01\n",
      "  7.72108613e-01  8.98295771e-02  5.91369009e-01  6.06039485e-01\n",
      "  8.31857765e-01  9.15811216e-01  3.83932792e-01  9.34492689e-01]\n"
     ]
    }
   ],
   "source": [
    "print(y_lr_train_pred)"
   ]
  },
  {
   "cell_type": "code",
   "execution_count": 19,
   "id": "ee879d1e",
   "metadata": {},
   "outputs": [
    {
     "name": "stdout",
     "output_type": "stream",
     "text": [
      "[ 0.64357631  0.64140604  0.08032872  0.69915126  0.20924068  0.53615157\n",
      "  0.05948411  0.46963267  0.94018875  0.55061912  1.00573638  0.09133693\n",
      "  0.18952765  0.53238067  0.53027734  0.14418564  0.91795143  0.37658701\n",
      "  0.25224654  0.09387836  0.14258749  0.99073018  0.09861769  0.60776587\n",
      "  0.07835474  0.14265074  0.68515281  0.27613865  0.06112701  0.12451389\n",
      " -0.13249614  0.7195953   0.39523492  0.23009844  0.91506532  0.04773227\n",
      "  0.78154999  0.98590629  0.71184301  0.14253793  0.5765573   1.06400841\n",
      "  0.1734487   0.08717285 -0.13249614  0.71160021  0.09393136  0.9970145\n",
      "  0.18462613  0.89553468  0.10350401  0.23493861  0.01826783  0.08233173\n",
      "  0.05441455  0.1028733   0.06385476  0.1319358   0.13442624  0.3439345\n",
      "  0.21516773  0.24438633  0.0916651   0.16895203  0.23009844  0.61024748\n",
      "  0.09390231  0.67516943  0.72217929  0.05899236  0.3190185   0.0472526\n",
      "  0.06843854  0.68538609  0.07765565  0.18111659  0.44923453  0.195173\n",
      "  0.11137057  0.19517127  0.22907291  0.20228809  0.88234144  0.95241224\n",
      "  0.86362845  0.08438434  0.07603721  0.75101886  0.24168609  0.02445676\n",
      "  0.16252393  0.53653043  0.14258749  0.09160185  0.98320909  0.62396622\n",
      "  0.65073769  0.92718442  0.14265074  0.61298035  0.16895716  0.11433293\n",
      "  0.09655142  0.79849442  0.06843854  0.86505861  0.06153723  0.68538609\n",
      "  0.61713682  0.39722022  0.05915644  0.31643893  0.45414418  0.16252393\n",
      "  0.69409221  0.08926725  0.01131525  0.03299481  0.16895716  0.54186499\n",
      "  0.0800142   0.07312487  0.92847713  0.38490374  0.00557136  0.87638502\n",
      "  0.0548359   0.09481323  0.99336794  0.07997318  0.46292289  0.33428199\n",
      "  0.27577421  0.63377555  0.09531546  0.3875802   0.11101553  0.51774941\n",
      "  0.72950146  0.10329865  0.64829878  0.6088273   0.22284845  0.22082833\n",
      "  0.16895716  0.13965863  0.68543909  0.72346543  0.25288737  0.68906046\n",
      "  0.66099226  0.10587402  0.48671481  0.7033726   0.18677591  0.68543909\n",
      "  0.0799034   0.59412561  0.00312384  0.06115778  0.60691757  0.59645512\n",
      "  0.24632115  0.14258749  0.93288752  0.195173    0.68543909  0.38132975\n",
      "  0.23009844  0.76658193  0.25559126  0.7663596   0.39810526  0.77031063\n",
      "  0.73733197  0.69365164  0.05412971  0.09066975  0.64759235]\n"
     ]
    }
   ],
   "source": [
    "print(y_lr_test_pred)"
   ]
  },
  {
   "cell_type": "code",
   "execution_count": 20,
   "id": "29a93fea",
   "metadata": {},
   "outputs": [],
   "source": [
    "lr_train_mse = mean_squared_error(y_train,y_lr_train_pred)\n",
    "lr_train_r2 = r2_score(y_train,y_lr_train_pred)\n",
    "\n",
    "\n",
    "lr_test_mse = mean_squared_error(y_test,y_lr_test_pred)\n",
    "lr_test_r2 = r2_score(y_test,y_lr_test_pred)"
   ]
  },
  {
   "cell_type": "code",
   "execution_count": 25,
   "id": "18414a65",
   "metadata": {},
   "outputs": [
    {
     "name": "stdout",
     "output_type": "stream",
     "text": [
      "Linear Regression MSE Train: 14.469135599508382 %\n",
      "Linear Regression R2 Train: 38.26502144209758 %\n",
      "Linear Regression MSE Test: 14.904536271189778 %\n",
      "Linear Regression R2 Test: 38.77484017112928 %\n"
     ]
    }
   ],
   "source": [
    "print('Linear Regression MSE Train:', lr_train_mse*100,'%')\n",
    "print('Linear Regression R2 Train:', lr_train_r2*100,'%')\n",
    "print('Linear Regression MSE Test:', lr_test_mse*100,'%')\n",
    "print('Linear Regression R2 Test:', lr_test_r2*100,'%')"
   ]
  },
  {
   "cell_type": "code",
   "execution_count": 26,
   "id": "ef1ba446",
   "metadata": {},
   "outputs": [],
   "source": [
    "lr_results = pd.DataFrame(['Linear Regression', lr_train_mse,lr_train_r2,lr_test_mse,lr_test_r2]).transpose()"
   ]
  },
  {
   "cell_type": "code",
   "execution_count": 29,
   "id": "ad240ad5",
   "metadata": {},
   "outputs": [],
   "source": [
    "lr_results.columns = ['Method', 'Training MSE', 'Training R2', 'Test MSE', 'Test R2']"
   ]
  },
  {
   "cell_type": "code",
   "execution_count": 30,
   "id": "c7c6237f",
   "metadata": {},
   "outputs": [
    {
     "data": {
      "text/html": [
       "<div>\n",
       "<style scoped>\n",
       "    .dataframe tbody tr th:only-of-type {\n",
       "        vertical-align: middle;\n",
       "    }\n",
       "\n",
       "    .dataframe tbody tr th {\n",
       "        vertical-align: top;\n",
       "    }\n",
       "\n",
       "    .dataframe thead th {\n",
       "        text-align: right;\n",
       "    }\n",
       "</style>\n",
       "<table border=\"1\" class=\"dataframe\">\n",
       "  <thead>\n",
       "    <tr style=\"text-align: right;\">\n",
       "      <th></th>\n",
       "      <th>Method</th>\n",
       "      <th>Training MSE</th>\n",
       "      <th>Training R2</th>\n",
       "      <th>Test MSE</th>\n",
       "      <th>Test R2</th>\n",
       "    </tr>\n",
       "  </thead>\n",
       "  <tbody>\n",
       "    <tr>\n",
       "      <th>0</th>\n",
       "      <td>Linear Regression</td>\n",
       "      <td>0.144691</td>\n",
       "      <td>0.38265</td>\n",
       "      <td>0.149045</td>\n",
       "      <td>0.387748</td>\n",
       "    </tr>\n",
       "  </tbody>\n",
       "</table>\n",
       "</div>"
      ],
      "text/plain": [
       "              Method Training MSE Training R2  Test MSE   Test R2\n",
       "0  Linear Regression     0.144691     0.38265  0.149045  0.387748"
      ]
     },
     "execution_count": 30,
     "metadata": {},
     "output_type": "execute_result"
    }
   ],
   "source": [
    "lr_results"
   ]
  },
  {
   "cell_type": "markdown",
   "id": "819a5433",
   "metadata": {},
   "source": [
    "## Random Forest"
   ]
  },
  {
   "cell_type": "markdown",
   "id": "b9aa12e6",
   "metadata": {},
   "source": [
    "### Train Model"
   ]
  },
  {
   "cell_type": "code",
   "execution_count": 31,
   "id": "ebe1c61f",
   "metadata": {},
   "outputs": [
    {
     "data": {
      "text/html": [
       "<style>#sk-container-id-2 {color: black;background-color: white;}#sk-container-id-2 pre{padding: 0;}#sk-container-id-2 div.sk-toggleable {background-color: white;}#sk-container-id-2 label.sk-toggleable__label {cursor: pointer;display: block;width: 100%;margin-bottom: 0;padding: 0.3em;box-sizing: border-box;text-align: center;}#sk-container-id-2 label.sk-toggleable__label-arrow:before {content: \"▸\";float: left;margin-right: 0.25em;color: #696969;}#sk-container-id-2 label.sk-toggleable__label-arrow:hover:before {color: black;}#sk-container-id-2 div.sk-estimator:hover label.sk-toggleable__label-arrow:before {color: black;}#sk-container-id-2 div.sk-toggleable__content {max-height: 0;max-width: 0;overflow: hidden;text-align: left;background-color: #f0f8ff;}#sk-container-id-2 div.sk-toggleable__content pre {margin: 0.2em;color: black;border-radius: 0.25em;background-color: #f0f8ff;}#sk-container-id-2 input.sk-toggleable__control:checked~div.sk-toggleable__content {max-height: 200px;max-width: 100%;overflow: auto;}#sk-container-id-2 input.sk-toggleable__control:checked~label.sk-toggleable__label-arrow:before {content: \"▾\";}#sk-container-id-2 div.sk-estimator input.sk-toggleable__control:checked~label.sk-toggleable__label {background-color: #d4ebff;}#sk-container-id-2 div.sk-label input.sk-toggleable__control:checked~label.sk-toggleable__label {background-color: #d4ebff;}#sk-container-id-2 input.sk-hidden--visually {border: 0;clip: rect(1px 1px 1px 1px);clip: rect(1px, 1px, 1px, 1px);height: 1px;margin: -1px;overflow: hidden;padding: 0;position: absolute;width: 1px;}#sk-container-id-2 div.sk-estimator {font-family: monospace;background-color: #f0f8ff;border: 1px dotted black;border-radius: 0.25em;box-sizing: border-box;margin-bottom: 0.5em;}#sk-container-id-2 div.sk-estimator:hover {background-color: #d4ebff;}#sk-container-id-2 div.sk-parallel-item::after {content: \"\";width: 100%;border-bottom: 1px solid gray;flex-grow: 1;}#sk-container-id-2 div.sk-label:hover label.sk-toggleable__label {background-color: #d4ebff;}#sk-container-id-2 div.sk-serial::before {content: \"\";position: absolute;border-left: 1px solid gray;box-sizing: border-box;top: 0;bottom: 0;left: 50%;z-index: 0;}#sk-container-id-2 div.sk-serial {display: flex;flex-direction: column;align-items: center;background-color: white;padding-right: 0.2em;padding-left: 0.2em;position: relative;}#sk-container-id-2 div.sk-item {position: relative;z-index: 1;}#sk-container-id-2 div.sk-parallel {display: flex;align-items: stretch;justify-content: center;background-color: white;position: relative;}#sk-container-id-2 div.sk-item::before, #sk-container-id-2 div.sk-parallel-item::before {content: \"\";position: absolute;border-left: 1px solid gray;box-sizing: border-box;top: 0;bottom: 0;left: 50%;z-index: -1;}#sk-container-id-2 div.sk-parallel-item {display: flex;flex-direction: column;z-index: 1;position: relative;background-color: white;}#sk-container-id-2 div.sk-parallel-item:first-child::after {align-self: flex-end;width: 50%;}#sk-container-id-2 div.sk-parallel-item:last-child::after {align-self: flex-start;width: 50%;}#sk-container-id-2 div.sk-parallel-item:only-child::after {width: 0;}#sk-container-id-2 div.sk-dashed-wrapped {border: 1px dashed gray;margin: 0 0.4em 0.5em 0.4em;box-sizing: border-box;padding-bottom: 0.4em;background-color: white;}#sk-container-id-2 div.sk-label label {font-family: monospace;font-weight: bold;display: inline-block;line-height: 1.2em;}#sk-container-id-2 div.sk-label-container {text-align: center;}#sk-container-id-2 div.sk-container {/* jupyter's `normalize.less` sets `[hidden] { display: none; }` but bootstrap.min.css set `[hidden] { display: none !important; }` so we also need the `!important` here to be able to override the default hidden behavior on the sphinx rendered scikit-learn.org. See: https://github.com/scikit-learn/scikit-learn/issues/21755 */display: inline-block !important;position: relative;}#sk-container-id-2 div.sk-text-repr-fallback {display: none;}</style><div id=\"sk-container-id-2\" class=\"sk-top-container\"><div class=\"sk-text-repr-fallback\"><pre>RandomForestClassifier(max_depth=2, random_state=100)</pre><b>In a Jupyter environment, please rerun this cell to show the HTML representation or trust the notebook. <br />On GitHub, the HTML representation is unable to render, please try loading this page with nbviewer.org.</b></div><div class=\"sk-container\" hidden><div class=\"sk-item\"><div class=\"sk-estimator sk-toggleable\"><input class=\"sk-toggleable__control sk-hidden--visually\" id=\"sk-estimator-id-2\" type=\"checkbox\" checked><label for=\"sk-estimator-id-2\" class=\"sk-toggleable__label sk-toggleable__label-arrow\">RandomForestClassifier</label><div class=\"sk-toggleable__content\"><pre>RandomForestClassifier(max_depth=2, random_state=100)</pre></div></div></div></div></div>"
      ],
      "text/plain": [
       "RandomForestClassifier(max_depth=2, random_state=100)"
      ]
     },
     "execution_count": 31,
     "metadata": {},
     "output_type": "execute_result"
    }
   ],
   "source": [
    "from sklearn.ensemble import RandomForestClassifier\n",
    "rf = RandomForestClassifier(max_depth=2, random_state=100)\n",
    "rf.fit(x_train,y_train)"
   ]
  },
  {
   "cell_type": "code",
   "execution_count": 40,
   "id": "706a692a",
   "metadata": {},
   "outputs": [],
   "source": [
    "y_rf_train_pred = rf.predict(x_train)\n",
    "y_rf_test_pred = rf.predict(x_test)"
   ]
  },
  {
   "cell_type": "code",
   "execution_count": 41,
   "id": "e092ef4a",
   "metadata": {},
   "outputs": [],
   "source": [
    "rf_train_mse = mean_squared_error(y_train,y_rf_train_pred)\n",
    "rf_train_r2 = r2_score(y_train,y_rf_train_pred)\n",
    "\n",
    "\n",
    "rf_test_mse = mean_squared_error(y_test,y_rf_test_pred)\n",
    "rf_test_r2 = r2_score(y_test,y_rf_test_pred)"
   ]
  },
  {
   "cell_type": "code",
   "execution_count": 42,
   "id": "4ed122db",
   "metadata": {},
   "outputs": [],
   "source": [
    "rf_results = pd.DataFrame(['Random Forest', rf_train_mse,rf_train_r2,rf_test_mse,rf_test_r2]).transpose()\n",
    "rf_results.columns = ['Method', 'Training MSE', 'Training R2', 'Test MSE', 'Test R2']"
   ]
  },
  {
   "cell_type": "markdown",
   "id": "c93ddc3a",
   "metadata": {},
   "source": [
    "### Model Comparison"
   ]
  },
  {
   "cell_type": "code",
   "execution_count": 43,
   "id": "04c49f7f",
   "metadata": {},
   "outputs": [],
   "source": [
    "df_models = pd.concat([lr_results,rf_results], axis=0)"
   ]
  },
  {
   "cell_type": "code",
   "execution_count": 46,
   "id": "ed1c51fc",
   "metadata": {},
   "outputs": [
    {
     "data": {
      "text/html": [
       "<div>\n",
       "<style scoped>\n",
       "    .dataframe tbody tr th:only-of-type {\n",
       "        vertical-align: middle;\n",
       "    }\n",
       "\n",
       "    .dataframe tbody tr th {\n",
       "        vertical-align: top;\n",
       "    }\n",
       "\n",
       "    .dataframe thead th {\n",
       "        text-align: right;\n",
       "    }\n",
       "</style>\n",
       "<table border=\"1\" class=\"dataframe\">\n",
       "  <thead>\n",
       "    <tr style=\"text-align: right;\">\n",
       "      <th></th>\n",
       "      <th>Method</th>\n",
       "      <th>Training MSE</th>\n",
       "      <th>Training R2</th>\n",
       "      <th>Test MSE</th>\n",
       "      <th>Test R2</th>\n",
       "    </tr>\n",
       "  </thead>\n",
       "  <tbody>\n",
       "    <tr>\n",
       "      <th>0</th>\n",
       "      <td>Linear Regression</td>\n",
       "      <td>0.144691</td>\n",
       "      <td>0.38265</td>\n",
       "      <td>0.149045</td>\n",
       "      <td>0.387748</td>\n",
       "    </tr>\n",
       "    <tr>\n",
       "      <th>1</th>\n",
       "      <td>Random Forest</td>\n",
       "      <td>0.198034</td>\n",
       "      <td>0.155056</td>\n",
       "      <td>0.22905</td>\n",
       "      <td>0.059103</td>\n",
       "    </tr>\n",
       "  </tbody>\n",
       "</table>\n",
       "</div>"
      ],
      "text/plain": [
       "              Method Training MSE Training R2  Test MSE   Test R2\n",
       "0  Linear Regression     0.144691     0.38265  0.149045  0.387748\n",
       "1      Random Forest     0.198034    0.155056   0.22905  0.059103"
      ]
     },
     "execution_count": 46,
     "metadata": {},
     "output_type": "execute_result"
    }
   ],
   "source": [
    "df_models.reset_index(drop=True)"
   ]
  },
  {
   "cell_type": "code",
   "execution_count": 67,
   "id": "aef73ad6",
   "metadata": {},
   "outputs": [],
   "source": [
    "df_models['MSE Accuracy'] = (1 - (abs(df_models['Training MSE'] - df_models['Test MSE'])))*100\n",
    "df_models['R2 Accuracy'] = (1 - (abs(df_models['Training R2'] - df_models['Test R2'])))*100"
   ]
  },
  {
   "cell_type": "code",
   "execution_count": 68,
   "id": "7fd5c359",
   "metadata": {},
   "outputs": [
    {
     "data": {
      "text/html": [
       "<div>\n",
       "<style scoped>\n",
       "    .dataframe tbody tr th:only-of-type {\n",
       "        vertical-align: middle;\n",
       "    }\n",
       "\n",
       "    .dataframe tbody tr th {\n",
       "        vertical-align: top;\n",
       "    }\n",
       "\n",
       "    .dataframe thead th {\n",
       "        text-align: right;\n",
       "    }\n",
       "</style>\n",
       "<table border=\"1\" class=\"dataframe\">\n",
       "  <thead>\n",
       "    <tr style=\"text-align: right;\">\n",
       "      <th></th>\n",
       "      <th>Method</th>\n",
       "      <th>Training MSE</th>\n",
       "      <th>Training R2</th>\n",
       "      <th>Test MSE</th>\n",
       "      <th>Test R2</th>\n",
       "      <th>MSE Comparison</th>\n",
       "      <th>MSE Accuracy</th>\n",
       "      <th>R2 Accuracy</th>\n",
       "    </tr>\n",
       "  </thead>\n",
       "  <tbody>\n",
       "    <tr>\n",
       "      <th>0</th>\n",
       "      <td>Linear Regression</td>\n",
       "      <td>0.144691</td>\n",
       "      <td>0.38265</td>\n",
       "      <td>0.149045</td>\n",
       "      <td>0.387748</td>\n",
       "      <td>99.564599</td>\n",
       "      <td>99.564599</td>\n",
       "      <td>99.490181</td>\n",
       "    </tr>\n",
       "    <tr>\n",
       "      <th>0</th>\n",
       "      <td>Random Forest</td>\n",
       "      <td>0.198034</td>\n",
       "      <td>0.155056</td>\n",
       "      <td>0.22905</td>\n",
       "      <td>0.059103</td>\n",
       "      <td>96.898343</td>\n",
       "      <td>96.898343</td>\n",
       "      <td>90.404638</td>\n",
       "    </tr>\n",
       "  </tbody>\n",
       "</table>\n",
       "</div>"
      ],
      "text/plain": [
       "              Method Training MSE Training R2  Test MSE   Test R2  \\\n",
       "0  Linear Regression     0.144691     0.38265  0.149045  0.387748   \n",
       "0      Random Forest     0.198034    0.155056   0.22905  0.059103   \n",
       "\n",
       "  MSE Comparison MSE Accuracy R2 Accuracy  \n",
       "0      99.564599    99.564599   99.490181  \n",
       "0      96.898343    96.898343   90.404638  "
      ]
     },
     "execution_count": 68,
     "metadata": {},
     "output_type": "execute_result"
    }
   ],
   "source": [
    "df_models"
   ]
  },
  {
   "cell_type": "code",
   "execution_count": 70,
   "id": "a36478d2",
   "metadata": {},
   "outputs": [
    {
     "data": {
      "image/png": "[encoded data removed]",
      "text/plain": [
       "<Figure size 640x480 with 1 Axes>"
      ]
     },
     "metadata": {},
     "output_type": "display_data"
    }
   ],
   "source": [
    "plt.scatter(x=y_train, y=y_lr_train_pred, alpha = 0.3)\n",
    "plt.show()"
   ]
  },
  {
   "cell_type": "code",
   "execution_count": null,
   "id": "8ee00fe0",
   "metadata": {},
   "outputs": [],
   "source": []
  }
 ],
 "metadata": {
  "kernelspec": {
   "display_name": "Python 3 (ipykernel)",
   "language": "python",
   "name": "python3"
  },
  "language_info": {
   "codemirror_mode": {
    "name": "ipython",
    "version": 3
   },
   "file_extension": ".py",
   "mimetype": "text/x-python",
   "name": "python",
   "nbconvert_exporter": "python",
   "pygments_lexer": "ipython3",
   "version": "3.10.9"
  }
 },
 "nbformat": 4,
 "nbformat_minor": 5
}
